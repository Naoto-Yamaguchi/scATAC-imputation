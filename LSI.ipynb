{
 "cells": [
  {
   "cell_type": "code",
   "execution_count": 32,
   "metadata": {},
   "outputs": [],
   "source": [
    "library(Signac)\n",
    "library(Seurat)\n",
    "library(ggplot2)\n",
    "library(patchwork)\n",
    "set.seed(1234)"
   ]
  },
  {
   "cell_type": "code",
   "execution_count": 129,
   "metadata": {},
   "outputs": [],
   "source": [
    "version = \"v1\""
   ]
  },
  {
   "cell_type": "code",
   "execution_count": 140,
   "metadata": {},
   "outputs": [],
   "source": [
    "matrix=\"M\""
   ]
  },
  {
   "cell_type": "code",
   "execution_count": 141,
   "metadata": {},
   "outputs": [
    {
     "data": {
      "text/html": [
       "'/home/naoto/scOpen/simulation1/v1/easiestM.tsv'"
      ],
      "text/latex": [
       "'/home/naoto/scOpen/simulation1/v1/easiestM.tsv'"
      ],
      "text/markdown": [
       "'/home/naoto/scOpen/simulation1/v1/easiestM.tsv'"
      ],
      "text/plain": [
       "[1] \"/home/naoto/scOpen/simulation1/v1/easiestM.tsv\""
      ]
     },
     "metadata": {},
     "output_type": "display_data"
    }
   ],
   "source": [
    "path = paste(\"/home/naoto/scOpen/simulation1/\", version, \"/easiest\", matrix ,\".tsv\", sep=\"\")\n",
    "path"
   ]
  },
  {
   "cell_type": "code",
   "execution_count": 142,
   "metadata": {},
   "outputs": [],
   "source": [
    "count.sim.bin = read.table(path, sep=\"\\t\")"
   ]
  },
  {
   "cell_type": "code",
   "execution_count": 133,
   "metadata": {},
   "outputs": [],
   "source": [
    "label = read.table(paste(\"/home/naoto/scOpen/basic_sim/\", version, \"/easiestM_label.tsv\", sep=\"\"), sep=\"\\t\")"
   ]
  },
  {
   "cell_type": "code",
   "execution_count": 143,
   "metadata": {},
   "outputs": [],
   "source": [
    "colnames(count.sim.bin) = paste0(\"cell\", 1:ncol(count.sim.bin))\n",
    "rownames(count.sim.bin) = paste0(\"peak\", 1:nrow(count.sim.bin))\n",
    "sob = CreateSeuratObject(\n",
    "    counts = count.sim.bin,\n",
    "    assay = \"peaks\"\n",
    ")"
   ]
  },
  {
   "cell_type": "code",
   "execution_count": 144,
   "metadata": {},
   "outputs": [
    {
     "data": {
      "text/plain": [
       "An object of class Seurat \n",
       "100 features across 80 samples within 1 assay \n",
       "Active assay: peaks (100 features, 0 variable features)"
      ]
     },
     "metadata": {},
     "output_type": "display_data"
    }
   ],
   "source": [
    "sob"
   ]
  },
  {
   "cell_type": "code",
   "execution_count": 145,
   "metadata": {},
   "outputs": [
    {
     "name": "stderr",
     "output_type": "stream",
     "text": [
      "Performing TF-IDF normalization\n",
      "\n",
      "Warning message in RunTFIDF.default(object = GetAssayData(object = object, slot = \"counts\"), :\n",
      "\"Some features contain 0 total counts\"\n",
      "Running SVD\n",
      "\n",
      "Warning message in irlba(A = t(x = object), nv = n, work = irlba.work):\n",
      "\"You're computing too large a percentage of total singular values, use a standard svd instead.\"\n",
      "Scaling cell embeddings\n",
      "\n"
     ]
    },
    {
     "data": {
      "image/png": "[encoded data removed]",
      "text/plain": [
       "plot without title"
      ]
     },
     "metadata": {
      "image/png": {
       "height": 420,
       "width": 420
      }
     },
     "output_type": "display_data"
    }
   ],
   "source": [
    "sob <- RunTFIDF(sob)\n",
    "sob <- FindTopFeatures(sob, min.cutoff = 'q0')\n",
    "sob <- RunSVD(sob)\n",
    "DepthCor(sob, n=30)"
   ]
  },
  {
   "cell_type": "code",
   "execution_count": 146,
   "metadata": {},
   "outputs": [
    {
     "name": "stderr",
     "output_type": "stream",
     "text": [
      "16:48:31 UMAP embedding parameters a = 0.9922 b = 1.112\n",
      "\n",
      "16:48:31 Read 80 rows and found 29 numeric columns\n",
      "\n",
      "16:48:31 Using Annoy for neighbor search, n_neighbors = 30\n",
      "\n",
      "16:48:31 Building Annoy index with metric = cosine, n_trees = 50\n",
      "\n",
      "0%   10   20   30   40   50   60   70   80   90   100%\n",
      "\n",
      "[----|----|----|----|----|----|----|----|----|----|\n",
      "\n",
      "*\n",
      "*\n",
      "*\n",
      "*\n",
      "*\n",
      "*\n",
      "*\n",
      "*\n",
      "*\n",
      "*\n",
      "*\n",
      "*\n",
      "*\n",
      "*\n",
      "*\n",
      "*\n",
      "*\n",
      "*\n",
      "*\n",
      "*\n",
      "*\n",
      "*\n",
      "*\n",
      "*\n",
      "*\n",
      "*\n",
      "*\n",
      "*\n",
      "*\n",
      "*\n",
      "*\n",
      "*\n",
      "*\n",
      "*\n",
      "*\n",
      "*\n",
      "*\n",
      "*\n",
      "*\n",
      "*\n",
      "*\n",
      "*\n",
      "*\n",
      "*\n",
      "*\n",
      "*\n",
      "*\n",
      "*\n",
      "*\n",
      "*\n",
      "\n",
      "|\n",
      "\n",
      "16:48:31 Writing NN index file to temp file /tmp/RtmpoKT0U9/file847a6534a03f\n",
      "\n",
      "16:48:31 Searching Annoy index using 1 thread, search_k = 3000\n",
      "\n",
      "16:48:31 Annoy recall = 100%\n",
      "\n",
      "16:48:32 Commencing smooth kNN distance calibration using 1 thread\n",
      "\n",
      "16:48:34 Initializing from normalized Laplacian + noise\n",
      "\n",
      "16:48:34 Commencing optimization for 500 epochs, with 2534 positive edges\n",
      "\n",
      "16:48:36 Optimization finished\n",
      "\n",
      "Computing nearest neighbor graph\n",
      "\n",
      "Computing SNN\n",
      "\n"
     ]
    },
    {
     "data": {
      "image/png": "[encoded data removed]",
      "text/plain": [
       "plot without title"
      ]
     },
     "metadata": {
      "image/png": {
       "height": 420,
       "width": 420
      }
     },
     "output_type": "display_data"
    }
   ],
   "source": [
    "sob <- RunUMAP(object = sob, reduction = 'lsi', dims = 2:30)\n",
    "sob <- FindNeighbors(object = sob, reduction = 'lsi', dims = 2:30)\n",
    "sob <- FindClusters(object = sob, verbose = FALSE, algorithm = 3)\n",
    "DimPlot(object = sob, label = TRUE) + NoLegend()"
   ]
  },
  {
   "cell_type": "code",
   "execution_count": 147,
   "metadata": {},
   "outputs": [
    {
     "data": {
      "text/html": [
       "'/home/naoto/scOpen/simulation1/v1/easiestM_lsi.tsv'"
      ],
      "text/latex": [
       "'/home/naoto/scOpen/simulation1/v1/easiestM\\_lsi.tsv'"
      ],
      "text/markdown": [
       "'/home/naoto/scOpen/simulation1/v1/easiestM_lsi.tsv'"
      ],
      "text/plain": [
       "[1] \"/home/naoto/scOpen/simulation1/v1/easiestM_lsi.tsv\""
      ]
     },
     "metadata": {},
     "output_type": "display_data"
    }
   ],
   "source": [
    "path_lsi = paste(\"/home/naoto/scOpen/simulation1/\", version, \"/easiest\", matrix ,\"_lsi.tsv\", sep=\"\")\n",
    "path_lsi"
   ]
  },
  {
   "cell_type": "code",
   "execution_count": 148,
   "metadata": {},
   "outputs": [],
   "source": [
    "write.table(sob@reductions$lsi@cell.embeddings, file=path_lsi, sep=\"\\t\")"
   ]
  },
  {
   "cell_type": "code",
   "execution_count": null,
   "metadata": {},
   "outputs": [],
   "source": []
  },
  {
   "cell_type": "code",
   "execution_count": null,
   "metadata": {},
   "outputs": [],
   "source": []
  },
  {
   "cell_type": "code",
   "execution_count": null,
   "metadata": {},
   "outputs": [],
   "source": []
  },
  {
   "cell_type": "code",
   "execution_count": null,
   "metadata": {},
   "outputs": [],
   "source": []
  },
  {
   "cell_type": "code",
   "execution_count": null,
   "metadata": {},
   "outputs": [],
   "source": []
  },
  {
   "cell_type": "code",
   "execution_count": null,
   "metadata": {},
   "outputs": [],
   "source": []
  },
  {
   "cell_type": "code",
   "execution_count": 16,
   "metadata": {},
   "outputs": [
    {
     "name": "stdout",
     "output_type": "stream",
     "text": [
      "Formal class 'Seurat' [package \"Seurat\"] with 13 slots\n",
      "  ..@ assays      :List of 1\n",
      "  .. ..$ peaks:Formal class 'Assay' [package \"Seurat\"] with 8 slots\n",
      "  .. .. .. ..@ counts       :Formal class 'dgCMatrix' [package \"Matrix\"] with 6 slots\n",
      "  .. .. .. .. .. ..@ i       : int [1:2660] 0 4 6 8 10 17 18 30 33 38 ...\n",
      "  .. .. .. .. .. ..@ p       : int [1:81] 0 38 76 114 152 190 228 266 304 342 ...\n",
      "  .. .. .. .. .. ..@ Dim     : int [1:2] 100 80\n",
      "  .. .. .. .. .. ..@ Dimnames:List of 2\n",
      "  .. .. .. .. .. .. ..$ : chr [1:100] \"peak1\" \"peak2\" \"peak3\" \"peak4\" ...\n",
      "  .. .. .. .. .. .. ..$ : chr [1:80] \"cell1\" \"cell2\" \"cell3\" \"cell4\" ...\n",
      "  .. .. .. .. .. ..@ x       : num [1:2660] 1 1 1 1 1 1 1 1 1 1 ...\n",
      "  .. .. .. .. .. ..@ factors : list()\n",
      "  .. .. .. ..@ data         :Formal class 'dgCMatrix' [package \"Matrix\"] with 6 slots\n",
      "  .. .. .. .. .. ..@ i       : int [1:2660] 0 4 6 8 10 17 18 30 33 38 ...\n",
      "  .. .. .. .. .. ..@ p       : int [1:81] 0 38 76 114 152 190 228 266 304 342 ...\n",
      "  .. .. .. .. .. ..@ Dim     : int [1:2] 100 80\n",
      "  .. .. .. .. .. ..@ Dimnames:List of 2\n",
      "  .. .. .. .. .. .. ..$ : chr [1:100] \"peak1\" \"peak2\" \"peak3\" \"peak4\" ...\n",
      "  .. .. .. .. .. .. ..$ : chr [1:80] \"cell1\" \"cell2\" \"cell3\" \"cell4\" ...\n",
      "  .. .. .. .. .. ..@ x       : num [1:2660] 6.05 6.96 6.05 6.56 6.27 ...\n",
      "  .. .. .. .. .. ..@ factors : list()\n",
      "  .. .. .. ..@ scale.data   : num[0 , 0 ] \n",
      "  .. .. .. ..@ key          : chr \"peaks_\"\n",
      "  .. .. .. ..@ assay.orig   : NULL\n",
      "  .. .. .. ..@ var.features : chr [1:100] \"peak1\" \"peak7\" \"peak46\" \"peak53\" ...\n",
      "  .. .. .. ..@ meta.features:'data.frame':\t100 obs. of  2 variables:\n",
      "  .. .. .. .. ..$ count     : num [1:100] 50 30 10 30 20 40 50 40 30 20 ...\n",
      "  .. .. .. .. ..$ percentile: num [1:100] 1 0.72 0.19 0.72 0.48 0.92 1 0.92 0.72 0.48 ...\n",
      "  .. .. .. ..@ misc         : NULL\n",
      "  ..@ meta.data   :'data.frame':\t80 obs. of  5 variables:\n",
      "  .. ..$ orig.ident       : Factor w/ 1 level \"SeuratProject\": 1 1 1 1 1 1 1 1 1 1 ...\n",
      "  .. ..$ nCount_peaks     : num [1:80] 38 38 38 38 38 38 38 38 38 38 ...\n",
      "  .. ..$ nFeature_peaks   : int [1:80] 38 38 38 38 38 38 38 38 38 38 ...\n",
      "  .. ..$ peaks_snn_res.0.8: Factor w/ 3 levels \"0\",\"1\",\"2\": 1 1 1 1 1 1 1 1 1 1 ...\n",
      "  .. ..$ seurat_clusters  : Factor w/ 3 levels \"0\",\"1\",\"2\": 1 1 1 1 1 1 1 1 1 1 ...\n",
      "  ..@ active.assay: chr \"peaks\"\n",
      "  ..@ active.ident: Factor w/ 3 levels \"0\",\"1\",\"2\": 1 1 1 1 1 1 1 1 1 1 ...\n",
      "  .. ..- attr(*, \"names\")= chr [1:80] \"cell1\" \"cell2\" \"cell3\" \"cell4\" ...\n",
      "  ..@ graphs      :List of 2\n",
      "  .. ..$ peaks_nn :Formal class 'Graph' [package \"Seurat\"] with 7 slots\n",
      "  .. .. .. ..@ assay.used: chr \"peaks\"\n",
      "  .. .. .. ..@ i         : int [1:1600] 0 1 2 3 4 5 6 7 8 9 ...\n",
      "  .. .. .. ..@ p         : int [1:81] 0 11 23 35 47 57 68 81 91 105 ...\n",
      "  .. .. .. ..@ Dim       : int [1:2] 80 80\n",
      "  .. .. .. ..@ Dimnames  :List of 2\n",
      "  .. .. .. .. ..$ : chr [1:80] \"cell1\" \"cell2\" \"cell3\" \"cell4\" ...\n",
      "  .. .. .. .. ..$ : chr [1:80] \"cell1\" \"cell2\" \"cell3\" \"cell4\" ...\n",
      "  .. .. .. ..@ x         : num [1:1600] 1 1 1 1 1 1 1 1 1 1 ...\n",
      "  .. .. .. ..@ factors   : list()\n",
      "  .. ..$ peaks_snn:Formal class 'Graph' [package \"Seurat\"] with 7 slots\n",
      "  .. .. .. ..@ assay.used: chr \"peaks\"\n",
      "  .. .. .. ..@ i         : int [1:5872] 0 1 2 3 4 5 6 7 8 9 ...\n",
      "  .. .. .. ..@ p         : int [1:81] 0 65 131 200 262 331 400 459 532 601 ...\n",
      "  .. .. .. ..@ Dim       : int [1:2] 80 80\n",
      "  .. .. .. ..@ Dimnames  :List of 2\n",
      "  .. .. .. .. ..$ : chr [1:80] \"cell1\" \"cell2\" \"cell3\" \"cell4\" ...\n",
      "  .. .. .. .. ..$ : chr [1:80] \"cell1\" \"cell2\" \"cell3\" \"cell4\" ...\n",
      "  .. .. .. ..@ x         : num [1:5872] 1 0.379 0.905 0.379 0.379 ...\n",
      "  .. .. .. ..@ factors   : list()\n",
      "  ..@ neighbors   : list()\n",
      "  ..@ reductions  :List of 2\n",
      "  .. ..$ lsi :Formal class 'DimReduc' [package \"Seurat\"] with 9 slots\n",
      "  .. .. .. ..@ cell.embeddings           : num [1:80, 1:50] -1.17 -1.17 -1.17 -1.17 -1.17 ...\n",
      "  .. .. .. .. ..- attr(*, \"dimnames\")=List of 2\n",
      "  .. .. .. .. .. ..$ : chr [1:80] \"cell1\" \"cell2\" \"cell3\" \"cell4\" ...\n",
      "  .. .. .. .. .. ..$ : chr [1:50] \"LSI_1\" \"LSI_2\" \"LSI_3\" \"LSI_4\" ...\n",
      "  .. .. .. ..@ feature.loadings          : num [1:100, 1:50] -0.16 -0.167 -0.159 -0.16 -0.163 ...\n",
      "  .. .. .. .. ..- attr(*, \"dimnames\")=List of 2\n",
      "  .. .. .. .. .. ..$ : chr [1:100] \"peak1\" \"peak7\" \"peak46\" \"peak53\" ...\n",
      "  .. .. .. .. .. ..$ : chr [1:50] \"LSI_1\" \"LSI_2\" \"LSI_3\" \"LSI_4\" ...\n",
      "  .. .. .. ..@ feature.loadings.projected: num[0 , 0 ] \n",
      "  .. .. .. ..@ assay.used                : chr \"peaks\"\n",
      "  .. .. .. ..@ global                    : logi FALSE\n",
      "  .. .. .. ..@ stdev                     : num [1:50] 21.75 12.8 11.14 10.95 9.61 ...\n",
      "  .. .. .. ..@ key                       : chr \"LSI_\"\n",
      "  .. .. .. ..@ jackstraw                 :Formal class 'JackStrawData' [package \"Seurat\"] with 4 slots\n",
      "  .. .. .. .. .. ..@ empirical.p.values     : num[0 , 0 ] \n",
      "  .. .. .. .. .. ..@ fake.reduction.scores  : num[0 , 0 ] \n",
      "  .. .. .. .. .. ..@ empirical.p.values.full: num[0 , 0 ] \n",
      "  .. .. .. .. .. ..@ overall.p.values       : num[0 , 0 ] \n",
      "  .. .. .. ..@ misc                      :List of 5\n",
      "  .. .. .. .. ..$ d    : num [1:50] 216.4 127.3 110.8 109 95.6 ...\n",
      "  .. .. .. .. ..$ u    : num [1:80, 1:50] -0.124 -0.124 -0.124 -0.124 -0.124 ...\n",
      "  .. .. .. .. ..$ v    : num [1:100, 1:50] -0.16 -0.167 -0.159 -0.16 -0.163 ...\n",
      "  .. .. .. .. ..$ iter : int 1\n",
      "  .. .. .. .. ..$ mprod: int 160\n",
      "  .. ..$ umap:Formal class 'DimReduc' [package \"Seurat\"] with 9 slots\n",
      "  .. .. .. ..@ cell.embeddings           : num [1:80, 1:2] 3.04 3.4 3.13 3.61 2.87 ...\n",
      "  .. .. .. .. ..- attr(*, \"scaled:center\")= num [1:2] 1.597 0.432\n",
      "  .. .. .. .. ..- attr(*, \"dimnames\")=List of 2\n",
      "  .. .. .. .. .. ..$ : chr [1:80] \"cell1\" \"cell2\" \"cell3\" \"cell4\" ...\n",
      "  .. .. .. .. .. ..$ : chr [1:2] \"UMAP_1\" \"UMAP_2\"\n",
      "  .. .. .. ..@ feature.loadings          : num[0 , 0 ] \n",
      "  .. .. .. ..@ feature.loadings.projected: num[0 , 0 ] \n",
      "  .. .. .. ..@ assay.used                : chr \"peaks\"\n",
      "  .. .. .. ..@ global                    : logi TRUE\n",
      "  .. .. .. ..@ stdev                     : num(0) \n",
      "  .. .. .. ..@ key                       : chr \"UMAP_\"\n",
      "  .. .. .. ..@ jackstraw                 :Formal class 'JackStrawData' [package \"Seurat\"] with 4 slots\n",
      "  .. .. .. .. .. ..@ empirical.p.values     : num[0 , 0 ] \n",
      "  .. .. .. .. .. ..@ fake.reduction.scores  : num[0 , 0 ] \n",
      "  .. .. .. .. .. ..@ empirical.p.values.full: num[0 , 0 ] \n",
      "  .. .. .. .. .. ..@ overall.p.values       : num[0 , 0 ] \n",
      "  .. .. .. ..@ misc                      : list()\n",
      "  ..@ images      : list()\n",
      "  ..@ project.name: chr \"SeuratProject\"\n",
      "  ..@ misc        : list()\n",
      "  ..@ version     :Classes 'package_version', 'numeric_version'  hidden list of 1\n",
      "  .. ..$ : int [1:3] 3 2 2\n",
      "  ..@ commands    :List of 3\n",
      "  .. ..$ RunUMAP.peaks.lsi      :Formal class 'SeuratCommand' [package \"Seurat\"] with 5 slots\n",
      "  .. .. .. ..@ name       : chr \"RunUMAP.peaks.lsi\"\n",
      "  .. .. .. ..@ time.stamp : POSIXct[1:1], format: \"2021-01-28 11:57:58\"\n",
      "  .. .. .. ..@ assay.used : chr \"peaks\"\n",
      "  .. .. .. ..@ call.string: chr \"RunUMAP(object = sob, reduction = \\\"lsi\\\", dims = dim)\"\n",
      "  .. .. .. ..@ params     :List of 22\n",
      "  .. .. .. .. ..$ dims                : num [1:8] 2 3 4 5 6 8 9 10\n",
      "  .. .. .. .. ..$ reduction           : chr \"lsi\"\n",
      "  .. .. .. .. ..$ assay               : chr \"peaks\"\n",
      "  .. .. .. .. ..$ slot                : chr \"data\"\n",
      "  .. .. .. .. ..$ umap.method         : chr \"uwot\"\n",
      "  .. .. .. .. ..$ return.model        : logi FALSE\n",
      "  .. .. .. .. ..$ n.neighbors         : int 30\n",
      "  .. .. .. .. ..$ n.components        : int 2\n",
      "  .. .. .. .. ..$ metric              : chr \"cosine\"\n",
      "  .. .. .. .. ..$ learning.rate       : num 1\n",
      "  .. .. .. .. ..$ min.dist            : num 0.3\n",
      "  .. .. .. .. ..$ spread              : num 1\n",
      "  .. .. .. .. ..$ set.op.mix.ratio    : num 1\n",
      "  .. .. .. .. ..$ local.connectivity  : int 1\n",
      "  .. .. .. .. ..$ repulsion.strength  : num 1\n",
      "  .. .. .. .. ..$ negative.sample.rate: int 5\n",
      "  .. .. .. .. ..$ uwot.sgd            : logi FALSE\n",
      "  .. .. .. .. ..$ seed.use            : int 42\n",
      "  .. .. .. .. ..$ angular.rp.forest   : logi FALSE\n",
      "  .. .. .. .. ..$ verbose             : logi TRUE\n",
      "  .. .. .. .. ..$ reduction.name      : chr \"umap\"\n",
      "  .. .. .. .. ..$ reduction.key       : chr \"UMAP_\"\n",
      "  .. ..$ FindNeighbors.peaks.lsi:Formal class 'SeuratCommand' [package \"Seurat\"] with 5 slots\n",
      "  .. .. .. ..@ name       : chr \"FindNeighbors.peaks.lsi\"\n",
      "  .. .. .. ..@ time.stamp : POSIXct[1:1], format: \"2021-01-28 11:57:58\"\n",
      "  .. .. .. ..@ assay.used : chr \"peaks\"\n",
      "  .. .. .. ..@ call.string: chr \"FindNeighbors(object = sob, reduction = \\\"lsi\\\", dims = dim)\"\n",
      "  .. .. .. ..@ params     :List of 13\n",
      "  .. .. .. .. ..$ reduction   : chr \"lsi\"\n",
      "  .. .. .. .. ..$ dims        : num [1:8] 2 3 4 5 6 8 9 10\n",
      "  .. .. .. .. ..$ assay       : chr \"peaks\"\n",
      "  .. .. .. .. ..$ k.param     : num 20\n",
      "  .. .. .. .. ..$ compute.SNN : logi TRUE\n",
      "  .. .. .. .. ..$ prune.SNN   : num 0.0667\n",
      "  .. .. .. .. ..$ nn.method   : chr \"rann\"\n",
      "  .. .. .. .. ..$ annoy.metric: chr \"euclidean\"\n",
      "  .. .. .. .. ..$ nn.eps      : num 0\n",
      "  .. .. .. .. ..$ verbose     : logi TRUE\n",
      "  .. .. .. .. ..$ force.recalc: logi FALSE\n",
      "  .. .. .. .. ..$ do.plot     : logi FALSE\n",
      "  .. .. .. .. ..$ graph.name  : chr [1:2] \"peaks_nn\" \"peaks_snn\"\n",
      "  .. ..$ FindClusters           :Formal class 'SeuratCommand' [package \"Seurat\"] with 5 slots\n",
      "  .. .. .. ..@ name       : chr \"FindClusters\"\n",
      "  .. .. .. ..@ time.stamp : POSIXct[1:1], format: \"2021-01-28 11:57:59\"\n",
      "  .. .. .. ..@ assay.used : chr \"peaks\"\n",
      "  .. .. .. ..@ call.string: chr \"FindClusters(object = sob, verbose = FALSE, algorithm = 3)\"\n",
      "  .. .. .. ..@ params     :List of 10\n",
      "  .. .. .. .. ..$ graph.name      : chr \"peaks_snn\"\n",
      "  .. .. .. .. ..$ modularity.fxn  : num 1\n",
      "  .. .. .. .. ..$ resolution      : num 0.8\n",
      "  .. .. .. .. ..$ method          : chr \"matrix\"\n",
      "  .. .. .. .. ..$ algorithm       : num 3\n",
      "  .. .. .. .. ..$ n.start         : num 10\n",
      "  .. .. .. .. ..$ n.iter          : num 10\n",
      "  .. .. .. .. ..$ random.seed     : num 0\n",
      "  .. .. .. .. ..$ group.singletons: logi TRUE\n",
      "  .. .. .. .. ..$ verbose         : logi FALSE\n",
      "  ..@ tools       : list()\n"
     ]
    }
   ],
   "source": [
    "str(sob)"
   ]
  },
  {
   "cell_type": "code",
   "execution_count": null,
   "metadata": {},
   "outputs": [],
   "source": []
  },
  {
   "cell_type": "code",
   "execution_count": 18,
   "metadata": {},
   "outputs": [],
   "source": [
    "count.sim.bin.noise = read.table(\"/home/naoto/scOpen/easiestX.tsv\", sep=\"\\t\")"
   ]
  },
  {
   "cell_type": "code",
   "execution_count": 24,
   "metadata": {
    "collapsed": true,
    "jupyter": {
     "outputs_hidden": true
    }
   },
   "outputs": [
    {
     "data": {
      "text/html": [
       "<table>\n",
       "<caption>A data.frame: 100 × 80</caption>\n",
       "<thead>\n",
       "\t<tr><th></th><th scope=col>cell1</th><th scope=col>cell2</th><th scope=col>cell3</th><th scope=col>cell4</th><th scope=col>cell5</th><th scope=col>cell6</th><th scope=col>cell7</th><th scope=col>cell8</th><th scope=col>cell9</th><th scope=col>cell10</th><th scope=col>⋯</th><th scope=col>cell71</th><th scope=col>cell72</th><th scope=col>cell73</th><th scope=col>cell74</th><th scope=col>cell75</th><th scope=col>cell76</th><th scope=col>cell77</th><th scope=col>cell78</th><th scope=col>cell79</th><th scope=col>cell80</th></tr>\n",
       "\t<tr><th></th><th scope=col>&lt;int&gt;</th><th scope=col>&lt;int&gt;</th><th scope=col>&lt;int&gt;</th><th scope=col>&lt;int&gt;</th><th scope=col>&lt;int&gt;</th><th scope=col>&lt;int&gt;</th><th scope=col>&lt;int&gt;</th><th scope=col>&lt;int&gt;</th><th scope=col>&lt;int&gt;</th><th scope=col>&lt;int&gt;</th><th scope=col>⋯</th><th scope=col>&lt;int&gt;</th><th scope=col>&lt;int&gt;</th><th scope=col>&lt;int&gt;</th><th scope=col>&lt;int&gt;</th><th scope=col>&lt;int&gt;</th><th scope=col>&lt;int&gt;</th><th scope=col>&lt;int&gt;</th><th scope=col>&lt;int&gt;</th><th scope=col>&lt;int&gt;</th><th scope=col>&lt;int&gt;</th></tr>\n",
       "</thead>\n",
       "<tbody>\n",
       "\t<tr><th scope=row>peak1</th><td>0</td><td>0</td><td>0</td><td>0</td><td>0</td><td>0</td><td>0</td><td>0</td><td>0</td><td>0</td><td>⋯</td><td>0</td><td>0</td><td>0</td><td>0</td><td>0</td><td>0</td><td>0</td><td>0</td><td>0</td><td>0</td></tr>\n",
       "\t<tr><th scope=row>peak2</th><td>0</td><td>0</td><td>0</td><td>0</td><td>0</td><td>0</td><td>0</td><td>0</td><td>0</td><td>0</td><td>⋯</td><td>0</td><td>0</td><td>0</td><td>0</td><td>0</td><td>0</td><td>0</td><td>0</td><td>0</td><td>0</td></tr>\n",
       "\t<tr><th scope=row>peak3</th><td>0</td><td>0</td><td>0</td><td>0</td><td>0</td><td>0</td><td>0</td><td>0</td><td>0</td><td>0</td><td>⋯</td><td>0</td><td>0</td><td>0</td><td>0</td><td>0</td><td>0</td><td>0</td><td>0</td><td>0</td><td>0</td></tr>\n",
       "\t<tr><th scope=row>peak4</th><td>0</td><td>0</td><td>0</td><td>0</td><td>0</td><td>0</td><td>0</td><td>0</td><td>0</td><td>0</td><td>⋯</td><td>0</td><td>0</td><td>0</td><td>0</td><td>0</td><td>0</td><td>0</td><td>0</td><td>0</td><td>0</td></tr>\n",
       "\t<tr><th scope=row>peak5</th><td>0</td><td>0</td><td>0</td><td>0</td><td>0</td><td>0</td><td>0</td><td>0</td><td>0</td><td>0</td><td>⋯</td><td>0</td><td>0</td><td>0</td><td>0</td><td>0</td><td>0</td><td>0</td><td>0</td><td>0</td><td>0</td></tr>\n",
       "\t<tr><th scope=row>peak6</th><td>1</td><td>1</td><td>0</td><td>0</td><td>1</td><td>1</td><td>1</td><td>0</td><td>1</td><td>0</td><td>⋯</td><td>0</td><td>0</td><td>1</td><td>1</td><td>1</td><td>1</td><td>1</td><td>0</td><td>0</td><td>0</td></tr>\n",
       "\t<tr><th scope=row>peak7</th><td>0</td><td>0</td><td>0</td><td>0</td><td>0</td><td>0</td><td>0</td><td>0</td><td>0</td><td>0</td><td>⋯</td><td>0</td><td>0</td><td>0</td><td>0</td><td>0</td><td>0</td><td>0</td><td>0</td><td>0</td><td>0</td></tr>\n",
       "\t<tr><th scope=row>peak8</th><td>0</td><td>0</td><td>0</td><td>0</td><td>0</td><td>0</td><td>0</td><td>0</td><td>0</td><td>0</td><td>⋯</td><td>0</td><td>0</td><td>0</td><td>0</td><td>0</td><td>0</td><td>0</td><td>0</td><td>0</td><td>0</td></tr>\n",
       "\t<tr><th scope=row>peak9</th><td>1</td><td>1</td><td>1</td><td>0</td><td>1</td><td>1</td><td>0</td><td>0</td><td>0</td><td>0</td><td>⋯</td><td>0</td><td>0</td><td>0</td><td>0</td><td>0</td><td>0</td><td>0</td><td>0</td><td>0</td><td>0</td></tr>\n",
       "\t<tr><th scope=row>peak10</th><td>0</td><td>0</td><td>0</td><td>0</td><td>0</td><td>0</td><td>0</td><td>0</td><td>0</td><td>0</td><td>⋯</td><td>1</td><td>1</td><td>1</td><td>1</td><td>0</td><td>1</td><td>1</td><td>1</td><td>0</td><td>0</td></tr>\n",
       "\t<tr><th scope=row>peak11</th><td>0</td><td>0</td><td>0</td><td>0</td><td>0</td><td>0</td><td>0</td><td>0</td><td>0</td><td>0</td><td>⋯</td><td>0</td><td>0</td><td>0</td><td>0</td><td>0</td><td>0</td><td>0</td><td>0</td><td>0</td><td>0</td></tr>\n",
       "\t<tr><th scope=row>peak12</th><td>0</td><td>0</td><td>0</td><td>0</td><td>0</td><td>0</td><td>0</td><td>0</td><td>0</td><td>0</td><td>⋯</td><td>0</td><td>0</td><td>0</td><td>0</td><td>0</td><td>0</td><td>0</td><td>0</td><td>0</td><td>0</td></tr>\n",
       "\t<tr><th scope=row>peak13</th><td>0</td><td>0</td><td>0</td><td>0</td><td>0</td><td>0</td><td>0</td><td>0</td><td>0</td><td>0</td><td>⋯</td><td>0</td><td>0</td><td>0</td><td>0</td><td>0</td><td>0</td><td>0</td><td>0</td><td>0</td><td>0</td></tr>\n",
       "\t<tr><th scope=row>peak14</th><td>0</td><td>0</td><td>0</td><td>0</td><td>0</td><td>0</td><td>0</td><td>0</td><td>0</td><td>0</td><td>⋯</td><td>1</td><td>1</td><td>0</td><td>0</td><td>0</td><td>1</td><td>0</td><td>0</td><td>1</td><td>0</td></tr>\n",
       "\t<tr><th scope=row>peak15</th><td>0</td><td>0</td><td>0</td><td>0</td><td>0</td><td>0</td><td>0</td><td>0</td><td>0</td><td>0</td><td>⋯</td><td>0</td><td>0</td><td>0</td><td>0</td><td>0</td><td>0</td><td>0</td><td>0</td><td>0</td><td>0</td></tr>\n",
       "\t<tr><th scope=row>peak16</th><td>0</td><td>0</td><td>0</td><td>0</td><td>0</td><td>0</td><td>0</td><td>0</td><td>0</td><td>0</td><td>⋯</td><td>0</td><td>0</td><td>0</td><td>0</td><td>0</td><td>0</td><td>0</td><td>0</td><td>0</td><td>0</td></tr>\n",
       "\t<tr><th scope=row>peak17</th><td>1</td><td>1</td><td>0</td><td>1</td><td>1</td><td>0</td><td>0</td><td>1</td><td>1</td><td>1</td><td>⋯</td><td>0</td><td>0</td><td>0</td><td>0</td><td>0</td><td>0</td><td>0</td><td>0</td><td>0</td><td>0</td></tr>\n",
       "\t<tr><th scope=row>peak18</th><td>0</td><td>0</td><td>0</td><td>0</td><td>0</td><td>0</td><td>0</td><td>0</td><td>0</td><td>0</td><td>⋯</td><td>0</td><td>0</td><td>0</td><td>0</td><td>0</td><td>0</td><td>0</td><td>0</td><td>0</td><td>0</td></tr>\n",
       "\t<tr><th scope=row>peak19</th><td>0</td><td>0</td><td>0</td><td>0</td><td>0</td><td>0</td><td>0</td><td>0</td><td>0</td><td>0</td><td>⋯</td><td>0</td><td>0</td><td>0</td><td>0</td><td>0</td><td>0</td><td>0</td><td>0</td><td>0</td><td>0</td></tr>\n",
       "\t<tr><th scope=row>peak20</th><td>0</td><td>0</td><td>0</td><td>0</td><td>0</td><td>0</td><td>0</td><td>0</td><td>0</td><td>0</td><td>⋯</td><td>0</td><td>0</td><td>0</td><td>0</td><td>0</td><td>0</td><td>0</td><td>0</td><td>0</td><td>0</td></tr>\n",
       "\t<tr><th scope=row>peak21</th><td>0</td><td>0</td><td>0</td><td>0</td><td>0</td><td>0</td><td>0</td><td>0</td><td>0</td><td>0</td><td>⋯</td><td>0</td><td>0</td><td>0</td><td>0</td><td>0</td><td>0</td><td>0</td><td>0</td><td>0</td><td>0</td></tr>\n",
       "\t<tr><th scope=row>peak22</th><td>0</td><td>0</td><td>0</td><td>0</td><td>0</td><td>0</td><td>0</td><td>0</td><td>0</td><td>0</td><td>⋯</td><td>0</td><td>0</td><td>0</td><td>0</td><td>0</td><td>0</td><td>0</td><td>0</td><td>0</td><td>0</td></tr>\n",
       "\t<tr><th scope=row>peak23</th><td>1</td><td>1</td><td>1</td><td>1</td><td>0</td><td>0</td><td>1</td><td>1</td><td>1</td><td>1</td><td>⋯</td><td>0</td><td>0</td><td>0</td><td>0</td><td>0</td><td>0</td><td>0</td><td>0</td><td>0</td><td>0</td></tr>\n",
       "\t<tr><th scope=row>peak24</th><td>1</td><td>0</td><td>0</td><td>0</td><td>1</td><td>0</td><td>1</td><td>0</td><td>0</td><td>0</td><td>⋯</td><td>0</td><td>0</td><td>0</td><td>0</td><td>0</td><td>0</td><td>0</td><td>0</td><td>0</td><td>0</td></tr>\n",
       "\t<tr><th scope=row>peak25</th><td>1</td><td>1</td><td>0</td><td>1</td><td>1</td><td>1</td><td>1</td><td>0</td><td>1</td><td>1</td><td>⋯</td><td>0</td><td>0</td><td>0</td><td>0</td><td>0</td><td>0</td><td>0</td><td>0</td><td>0</td><td>0</td></tr>\n",
       "\t<tr><th scope=row>peak26</th><td>0</td><td>0</td><td>0</td><td>0</td><td>0</td><td>0</td><td>0</td><td>0</td><td>0</td><td>0</td><td>⋯</td><td>1</td><td>1</td><td>1</td><td>1</td><td>1</td><td>1</td><td>0</td><td>1</td><td>1</td><td>1</td></tr>\n",
       "\t<tr><th scope=row>peak27</th><td>0</td><td>0</td><td>0</td><td>0</td><td>0</td><td>0</td><td>0</td><td>0</td><td>0</td><td>0</td><td>⋯</td><td>1</td><td>1</td><td>1</td><td>1</td><td>0</td><td>1</td><td>1</td><td>0</td><td>0</td><td>0</td></tr>\n",
       "\t<tr><th scope=row>peak28</th><td>0</td><td>0</td><td>0</td><td>0</td><td>0</td><td>0</td><td>0</td><td>0</td><td>0</td><td>0</td><td>⋯</td><td>1</td><td>1</td><td>1</td><td>0</td><td>0</td><td>1</td><td>1</td><td>1</td><td>1</td><td>0</td></tr>\n",
       "\t<tr><th scope=row>peak29</th><td>0</td><td>0</td><td>0</td><td>0</td><td>0</td><td>0</td><td>0</td><td>0</td><td>0</td><td>0</td><td>⋯</td><td>0</td><td>0</td><td>0</td><td>0</td><td>1</td><td>0</td><td>0</td><td>1</td><td>1</td><td>0</td></tr>\n",
       "\t<tr><th scope=row>peak30</th><td>0</td><td>0</td><td>0</td><td>0</td><td>0</td><td>0</td><td>0</td><td>0</td><td>0</td><td>0</td><td>⋯</td><td>0</td><td>0</td><td>0</td><td>0</td><td>0</td><td>0</td><td>0</td><td>0</td><td>0</td><td>0</td></tr>\n",
       "\t<tr><th scope=row>⋮</th><td>⋮</td><td>⋮</td><td>⋮</td><td>⋮</td><td>⋮</td><td>⋮</td><td>⋮</td><td>⋮</td><td>⋮</td><td>⋮</td><td>⋱</td><td>⋮</td><td>⋮</td><td>⋮</td><td>⋮</td><td>⋮</td><td>⋮</td><td>⋮</td><td>⋮</td><td>⋮</td><td>⋮</td></tr>\n",
       "\t<tr><th scope=row>peak71</th><td>0</td><td>0</td><td>0</td><td>1</td><td>0</td><td>0</td><td>1</td><td>0</td><td>1</td><td>0</td><td>⋯</td><td>0</td><td>0</td><td>0</td><td>0</td><td>0</td><td>0</td><td>0</td><td>0</td><td>0</td><td>0</td></tr>\n",
       "\t<tr><th scope=row>peak72</th><td>0</td><td>0</td><td>0</td><td>0</td><td>0</td><td>0</td><td>0</td><td>0</td><td>0</td><td>0</td><td>⋯</td><td>0</td><td>0</td><td>0</td><td>1</td><td>0</td><td>1</td><td>0</td><td>0</td><td>1</td><td>1</td></tr>\n",
       "\t<tr><th scope=row>peak73</th><td>0</td><td>0</td><td>0</td><td>0</td><td>0</td><td>0</td><td>0</td><td>0</td><td>0</td><td>0</td><td>⋯</td><td>0</td><td>0</td><td>0</td><td>0</td><td>0</td><td>0</td><td>0</td><td>0</td><td>0</td><td>0</td></tr>\n",
       "\t<tr><th scope=row>peak74</th><td>0</td><td>0</td><td>0</td><td>0</td><td>0</td><td>0</td><td>0</td><td>0</td><td>0</td><td>0</td><td>⋯</td><td>0</td><td>0</td><td>0</td><td>0</td><td>0</td><td>0</td><td>0</td><td>0</td><td>0</td><td>0</td></tr>\n",
       "\t<tr><th scope=row>peak75</th><td>1</td><td>1</td><td>0</td><td>0</td><td>1</td><td>0</td><td>1</td><td>0</td><td>1</td><td>0</td><td>⋯</td><td>0</td><td>0</td><td>0</td><td>0</td><td>0</td><td>0</td><td>0</td><td>0</td><td>0</td><td>0</td></tr>\n",
       "\t<tr><th scope=row>peak76</th><td>0</td><td>0</td><td>0</td><td>0</td><td>0</td><td>0</td><td>0</td><td>0</td><td>0</td><td>0</td><td>⋯</td><td>0</td><td>1</td><td>0</td><td>1</td><td>1</td><td>0</td><td>1</td><td>1</td><td>1</td><td>0</td></tr>\n",
       "\t<tr><th scope=row>peak77</th><td>0</td><td>0</td><td>0</td><td>0</td><td>0</td><td>0</td><td>0</td><td>0</td><td>0</td><td>0</td><td>⋯</td><td>0</td><td>0</td><td>0</td><td>0</td><td>0</td><td>0</td><td>0</td><td>0</td><td>0</td><td>0</td></tr>\n",
       "\t<tr><th scope=row>peak78</th><td>0</td><td>0</td><td>0</td><td>0</td><td>0</td><td>0</td><td>0</td><td>0</td><td>0</td><td>0</td><td>⋯</td><td>0</td><td>0</td><td>0</td><td>0</td><td>0</td><td>0</td><td>0</td><td>0</td><td>0</td><td>0</td></tr>\n",
       "\t<tr><th scope=row>peak79</th><td>0</td><td>0</td><td>0</td><td>0</td><td>0</td><td>0</td><td>0</td><td>0</td><td>0</td><td>0</td><td>⋯</td><td>0</td><td>0</td><td>1</td><td>0</td><td>0</td><td>0</td><td>1</td><td>0</td><td>1</td><td>1</td></tr>\n",
       "\t<tr><th scope=row>peak80</th><td>0</td><td>0</td><td>0</td><td>1</td><td>1</td><td>1</td><td>0</td><td>1</td><td>1</td><td>1</td><td>⋯</td><td>0</td><td>0</td><td>1</td><td>0</td><td>1</td><td>1</td><td>1</td><td>1</td><td>1</td><td>1</td></tr>\n",
       "\t<tr><th scope=row>peak81</th><td>0</td><td>0</td><td>0</td><td>0</td><td>0</td><td>0</td><td>0</td><td>0</td><td>0</td><td>0</td><td>⋯</td><td>0</td><td>0</td><td>0</td><td>0</td><td>0</td><td>0</td><td>0</td><td>0</td><td>0</td><td>0</td></tr>\n",
       "\t<tr><th scope=row>peak82</th><td>0</td><td>0</td><td>0</td><td>0</td><td>0</td><td>0</td><td>0</td><td>0</td><td>0</td><td>0</td><td>⋯</td><td>1</td><td>0</td><td>1</td><td>1</td><td>1</td><td>1</td><td>0</td><td>0</td><td>0</td><td>1</td></tr>\n",
       "\t<tr><th scope=row>peak83</th><td>1</td><td>0</td><td>0</td><td>0</td><td>0</td><td>0</td><td>1</td><td>0</td><td>1</td><td>0</td><td>⋯</td><td>1</td><td>0</td><td>1</td><td>0</td><td>0</td><td>1</td><td>1</td><td>1</td><td>0</td><td>0</td></tr>\n",
       "\t<tr><th scope=row>peak84</th><td>0</td><td>0</td><td>0</td><td>0</td><td>0</td><td>0</td><td>0</td><td>0</td><td>0</td><td>0</td><td>⋯</td><td>1</td><td>1</td><td>0</td><td>0</td><td>0</td><td>0</td><td>1</td><td>1</td><td>1</td><td>1</td></tr>\n",
       "\t<tr><th scope=row>peak85</th><td>0</td><td>0</td><td>0</td><td>0</td><td>0</td><td>0</td><td>0</td><td>0</td><td>0</td><td>0</td><td>⋯</td><td>0</td><td>0</td><td>0</td><td>0</td><td>0</td><td>0</td><td>0</td><td>0</td><td>0</td><td>0</td></tr>\n",
       "\t<tr><th scope=row>peak86</th><td>0</td><td>0</td><td>0</td><td>0</td><td>0</td><td>0</td><td>0</td><td>0</td><td>0</td><td>0</td><td>⋯</td><td>0</td><td>0</td><td>0</td><td>0</td><td>0</td><td>0</td><td>0</td><td>0</td><td>0</td><td>0</td></tr>\n",
       "\t<tr><th scope=row>peak87</th><td>1</td><td>1</td><td>1</td><td>1</td><td>1</td><td>0</td><td>1</td><td>1</td><td>1</td><td>0</td><td>⋯</td><td>0</td><td>0</td><td>0</td><td>0</td><td>0</td><td>0</td><td>0</td><td>0</td><td>0</td><td>0</td></tr>\n",
       "\t<tr><th scope=row>peak88</th><td>0</td><td>1</td><td>0</td><td>1</td><td>0</td><td>0</td><td>1</td><td>1</td><td>1</td><td>0</td><td>⋯</td><td>1</td><td>1</td><td>1</td><td>1</td><td>0</td><td>1</td><td>0</td><td>0</td><td>0</td><td>1</td></tr>\n",
       "\t<tr><th scope=row>peak89</th><td>1</td><td>1</td><td>0</td><td>0</td><td>0</td><td>0</td><td>0</td><td>0</td><td>1</td><td>0</td><td>⋯</td><td>1</td><td>0</td><td>1</td><td>0</td><td>0</td><td>1</td><td>1</td><td>0</td><td>1</td><td>0</td></tr>\n",
       "\t<tr><th scope=row>peak90</th><td>0</td><td>0</td><td>0</td><td>1</td><td>1</td><td>1</td><td>0</td><td>1</td><td>1</td><td>1</td><td>⋯</td><td>0</td><td>0</td><td>0</td><td>0</td><td>1</td><td>1</td><td>0</td><td>1</td><td>1</td><td>1</td></tr>\n",
       "\t<tr><th scope=row>peak91</th><td>0</td><td>0</td><td>0</td><td>0</td><td>0</td><td>0</td><td>0</td><td>0</td><td>0</td><td>0</td><td>⋯</td><td>0</td><td>0</td><td>0</td><td>0</td><td>0</td><td>0</td><td>0</td><td>0</td><td>0</td><td>0</td></tr>\n",
       "\t<tr><th scope=row>peak92</th><td>0</td><td>0</td><td>0</td><td>0</td><td>1</td><td>0</td><td>1</td><td>0</td><td>1</td><td>0</td><td>⋯</td><td>0</td><td>0</td><td>0</td><td>0</td><td>0</td><td>0</td><td>0</td><td>0</td><td>0</td><td>0</td></tr>\n",
       "\t<tr><th scope=row>peak93</th><td>1</td><td>0</td><td>1</td><td>1</td><td>0</td><td>1</td><td>1</td><td>0</td><td>0</td><td>1</td><td>⋯</td><td>0</td><td>0</td><td>0</td><td>0</td><td>0</td><td>0</td><td>0</td><td>0</td><td>0</td><td>0</td></tr>\n",
       "\t<tr><th scope=row>peak94</th><td>0</td><td>0</td><td>0</td><td>0</td><td>0</td><td>0</td><td>0</td><td>0</td><td>0</td><td>0</td><td>⋯</td><td>0</td><td>0</td><td>0</td><td>0</td><td>0</td><td>0</td><td>0</td><td>0</td><td>0</td><td>0</td></tr>\n",
       "\t<tr><th scope=row>peak95</th><td>0</td><td>0</td><td>0</td><td>0</td><td>0</td><td>0</td><td>0</td><td>0</td><td>0</td><td>0</td><td>⋯</td><td>1</td><td>0</td><td>1</td><td>0</td><td>1</td><td>1</td><td>1</td><td>0</td><td>0</td><td>1</td></tr>\n",
       "\t<tr><th scope=row>peak96</th><td>0</td><td>0</td><td>0</td><td>0</td><td>0</td><td>0</td><td>0</td><td>0</td><td>0</td><td>0</td><td>⋯</td><td>0</td><td>0</td><td>0</td><td>0</td><td>0</td><td>0</td><td>0</td><td>0</td><td>0</td><td>0</td></tr>\n",
       "\t<tr><th scope=row>peak97</th><td>0</td><td>0</td><td>0</td><td>0</td><td>0</td><td>0</td><td>0</td><td>0</td><td>0</td><td>0</td><td>⋯</td><td>0</td><td>0</td><td>0</td><td>1</td><td>0</td><td>0</td><td>1</td><td>1</td><td>0</td><td>0</td></tr>\n",
       "\t<tr><th scope=row>peak98</th><td>0</td><td>0</td><td>0</td><td>0</td><td>0</td><td>0</td><td>0</td><td>0</td><td>0</td><td>0</td><td>⋯</td><td>0</td><td>0</td><td>0</td><td>0</td><td>0</td><td>0</td><td>0</td><td>0</td><td>0</td><td>0</td></tr>\n",
       "\t<tr><th scope=row>peak99</th><td>0</td><td>0</td><td>0</td><td>0</td><td>0</td><td>0</td><td>0</td><td>0</td><td>0</td><td>0</td><td>⋯</td><td>1</td><td>0</td><td>1</td><td>1</td><td>1</td><td>1</td><td>1</td><td>0</td><td>1</td><td>0</td></tr>\n",
       "\t<tr><th scope=row>peak100</th><td>1</td><td>1</td><td>0</td><td>1</td><td>1</td><td>0</td><td>0</td><td>0</td><td>0</td><td>1</td><td>⋯</td><td>0</td><td>0</td><td>0</td><td>0</td><td>0</td><td>0</td><td>0</td><td>0</td><td>0</td><td>0</td></tr>\n",
       "</tbody>\n",
       "</table>\n"
      ],
      "text/latex": [
       "A data.frame: 100 × 80\n",
       "\\begin{tabular}{r|lllllllllllllllllllll}\n",
       "  & cell1 & cell2 & cell3 & cell4 & cell5 & cell6 & cell7 & cell8 & cell9 & cell10 & ⋯ & cell71 & cell72 & cell73 & cell74 & cell75 & cell76 & cell77 & cell78 & cell79 & cell80\\\\\n",
       "  & <int> & <int> & <int> & <int> & <int> & <int> & <int> & <int> & <int> & <int> & ⋯ & <int> & <int> & <int> & <int> & <int> & <int> & <int> & <int> & <int> & <int>\\\\\n",
       "\\hline\n",
       "\tpeak1 & 0 & 0 & 0 & 0 & 0 & 0 & 0 & 0 & 0 & 0 & ⋯ & 0 & 0 & 0 & 0 & 0 & 0 & 0 & 0 & 0 & 0\\\\\n",
       "\tpeak2 & 0 & 0 & 0 & 0 & 0 & 0 & 0 & 0 & 0 & 0 & ⋯ & 0 & 0 & 0 & 0 & 0 & 0 & 0 & 0 & 0 & 0\\\\\n",
       "\tpeak3 & 0 & 0 & 0 & 0 & 0 & 0 & 0 & 0 & 0 & 0 & ⋯ & 0 & 0 & 0 & 0 & 0 & 0 & 0 & 0 & 0 & 0\\\\\n",
       "\tpeak4 & 0 & 0 & 0 & 0 & 0 & 0 & 0 & 0 & 0 & 0 & ⋯ & 0 & 0 & 0 & 0 & 0 & 0 & 0 & 0 & 0 & 0\\\\\n",
       "\tpeak5 & 0 & 0 & 0 & 0 & 0 & 0 & 0 & 0 & 0 & 0 & ⋯ & 0 & 0 & 0 & 0 & 0 & 0 & 0 & 0 & 0 & 0\\\\\n",
       "\tpeak6 & 1 & 1 & 0 & 0 & 1 & 1 & 1 & 0 & 1 & 0 & ⋯ & 0 & 0 & 1 & 1 & 1 & 1 & 1 & 0 & 0 & 0\\\\\n",
       "\tpeak7 & 0 & 0 & 0 & 0 & 0 & 0 & 0 & 0 & 0 & 0 & ⋯ & 0 & 0 & 0 & 0 & 0 & 0 & 0 & 0 & 0 & 0\\\\\n",
       "\tpeak8 & 0 & 0 & 0 & 0 & 0 & 0 & 0 & 0 & 0 & 0 & ⋯ & 0 & 0 & 0 & 0 & 0 & 0 & 0 & 0 & 0 & 0\\\\\n",
       "\tpeak9 & 1 & 1 & 1 & 0 & 1 & 1 & 0 & 0 & 0 & 0 & ⋯ & 0 & 0 & 0 & 0 & 0 & 0 & 0 & 0 & 0 & 0\\\\\n",
       "\tpeak10 & 0 & 0 & 0 & 0 & 0 & 0 & 0 & 0 & 0 & 0 & ⋯ & 1 & 1 & 1 & 1 & 0 & 1 & 1 & 1 & 0 & 0\\\\\n",
       "\tpeak11 & 0 & 0 & 0 & 0 & 0 & 0 & 0 & 0 & 0 & 0 & ⋯ & 0 & 0 & 0 & 0 & 0 & 0 & 0 & 0 & 0 & 0\\\\\n",
       "\tpeak12 & 0 & 0 & 0 & 0 & 0 & 0 & 0 & 0 & 0 & 0 & ⋯ & 0 & 0 & 0 & 0 & 0 & 0 & 0 & 0 & 0 & 0\\\\\n",
       "\tpeak13 & 0 & 0 & 0 & 0 & 0 & 0 & 0 & 0 & 0 & 0 & ⋯ & 0 & 0 & 0 & 0 & 0 & 0 & 0 & 0 & 0 & 0\\\\\n",
       "\tpeak14 & 0 & 0 & 0 & 0 & 0 & 0 & 0 & 0 & 0 & 0 & ⋯ & 1 & 1 & 0 & 0 & 0 & 1 & 0 & 0 & 1 & 0\\\\\n",
       "\tpeak15 & 0 & 0 & 0 & 0 & 0 & 0 & 0 & 0 & 0 & 0 & ⋯ & 0 & 0 & 0 & 0 & 0 & 0 & 0 & 0 & 0 & 0\\\\\n",
       "\tpeak16 & 0 & 0 & 0 & 0 & 0 & 0 & 0 & 0 & 0 & 0 & ⋯ & 0 & 0 & 0 & 0 & 0 & 0 & 0 & 0 & 0 & 0\\\\\n",
       "\tpeak17 & 1 & 1 & 0 & 1 & 1 & 0 & 0 & 1 & 1 & 1 & ⋯ & 0 & 0 & 0 & 0 & 0 & 0 & 0 & 0 & 0 & 0\\\\\n",
       "\tpeak18 & 0 & 0 & 0 & 0 & 0 & 0 & 0 & 0 & 0 & 0 & ⋯ & 0 & 0 & 0 & 0 & 0 & 0 & 0 & 0 & 0 & 0\\\\\n",
       "\tpeak19 & 0 & 0 & 0 & 0 & 0 & 0 & 0 & 0 & 0 & 0 & ⋯ & 0 & 0 & 0 & 0 & 0 & 0 & 0 & 0 & 0 & 0\\\\\n",
       "\tpeak20 & 0 & 0 & 0 & 0 & 0 & 0 & 0 & 0 & 0 & 0 & ⋯ & 0 & 0 & 0 & 0 & 0 & 0 & 0 & 0 & 0 & 0\\\\\n",
       "\tpeak21 & 0 & 0 & 0 & 0 & 0 & 0 & 0 & 0 & 0 & 0 & ⋯ & 0 & 0 & 0 & 0 & 0 & 0 & 0 & 0 & 0 & 0\\\\\n",
       "\tpeak22 & 0 & 0 & 0 & 0 & 0 & 0 & 0 & 0 & 0 & 0 & ⋯ & 0 & 0 & 0 & 0 & 0 & 0 & 0 & 0 & 0 & 0\\\\\n",
       "\tpeak23 & 1 & 1 & 1 & 1 & 0 & 0 & 1 & 1 & 1 & 1 & ⋯ & 0 & 0 & 0 & 0 & 0 & 0 & 0 & 0 & 0 & 0\\\\\n",
       "\tpeak24 & 1 & 0 & 0 & 0 & 1 & 0 & 1 & 0 & 0 & 0 & ⋯ & 0 & 0 & 0 & 0 & 0 & 0 & 0 & 0 & 0 & 0\\\\\n",
       "\tpeak25 & 1 & 1 & 0 & 1 & 1 & 1 & 1 & 0 & 1 & 1 & ⋯ & 0 & 0 & 0 & 0 & 0 & 0 & 0 & 0 & 0 & 0\\\\\n",
       "\tpeak26 & 0 & 0 & 0 & 0 & 0 & 0 & 0 & 0 & 0 & 0 & ⋯ & 1 & 1 & 1 & 1 & 1 & 1 & 0 & 1 & 1 & 1\\\\\n",
       "\tpeak27 & 0 & 0 & 0 & 0 & 0 & 0 & 0 & 0 & 0 & 0 & ⋯ & 1 & 1 & 1 & 1 & 0 & 1 & 1 & 0 & 0 & 0\\\\\n",
       "\tpeak28 & 0 & 0 & 0 & 0 & 0 & 0 & 0 & 0 & 0 & 0 & ⋯ & 1 & 1 & 1 & 0 & 0 & 1 & 1 & 1 & 1 & 0\\\\\n",
       "\tpeak29 & 0 & 0 & 0 & 0 & 0 & 0 & 0 & 0 & 0 & 0 & ⋯ & 0 & 0 & 0 & 0 & 1 & 0 & 0 & 1 & 1 & 0\\\\\n",
       "\tpeak30 & 0 & 0 & 0 & 0 & 0 & 0 & 0 & 0 & 0 & 0 & ⋯ & 0 & 0 & 0 & 0 & 0 & 0 & 0 & 0 & 0 & 0\\\\\n",
       "\t⋮ & ⋮ & ⋮ & ⋮ & ⋮ & ⋮ & ⋮ & ⋮ & ⋮ & ⋮ & ⋮ & ⋱ & ⋮ & ⋮ & ⋮ & ⋮ & ⋮ & ⋮ & ⋮ & ⋮ & ⋮ & ⋮\\\\\n",
       "\tpeak71 & 0 & 0 & 0 & 1 & 0 & 0 & 1 & 0 & 1 & 0 & ⋯ & 0 & 0 & 0 & 0 & 0 & 0 & 0 & 0 & 0 & 0\\\\\n",
       "\tpeak72 & 0 & 0 & 0 & 0 & 0 & 0 & 0 & 0 & 0 & 0 & ⋯ & 0 & 0 & 0 & 1 & 0 & 1 & 0 & 0 & 1 & 1\\\\\n",
       "\tpeak73 & 0 & 0 & 0 & 0 & 0 & 0 & 0 & 0 & 0 & 0 & ⋯ & 0 & 0 & 0 & 0 & 0 & 0 & 0 & 0 & 0 & 0\\\\\n",
       "\tpeak74 & 0 & 0 & 0 & 0 & 0 & 0 & 0 & 0 & 0 & 0 & ⋯ & 0 & 0 & 0 & 0 & 0 & 0 & 0 & 0 & 0 & 0\\\\\n",
       "\tpeak75 & 1 & 1 & 0 & 0 & 1 & 0 & 1 & 0 & 1 & 0 & ⋯ & 0 & 0 & 0 & 0 & 0 & 0 & 0 & 0 & 0 & 0\\\\\n",
       "\tpeak76 & 0 & 0 & 0 & 0 & 0 & 0 & 0 & 0 & 0 & 0 & ⋯ & 0 & 1 & 0 & 1 & 1 & 0 & 1 & 1 & 1 & 0\\\\\n",
       "\tpeak77 & 0 & 0 & 0 & 0 & 0 & 0 & 0 & 0 & 0 & 0 & ⋯ & 0 & 0 & 0 & 0 & 0 & 0 & 0 & 0 & 0 & 0\\\\\n",
       "\tpeak78 & 0 & 0 & 0 & 0 & 0 & 0 & 0 & 0 & 0 & 0 & ⋯ & 0 & 0 & 0 & 0 & 0 & 0 & 0 & 0 & 0 & 0\\\\\n",
       "\tpeak79 & 0 & 0 & 0 & 0 & 0 & 0 & 0 & 0 & 0 & 0 & ⋯ & 0 & 0 & 1 & 0 & 0 & 0 & 1 & 0 & 1 & 1\\\\\n",
       "\tpeak80 & 0 & 0 & 0 & 1 & 1 & 1 & 0 & 1 & 1 & 1 & ⋯ & 0 & 0 & 1 & 0 & 1 & 1 & 1 & 1 & 1 & 1\\\\\n",
       "\tpeak81 & 0 & 0 & 0 & 0 & 0 & 0 & 0 & 0 & 0 & 0 & ⋯ & 0 & 0 & 0 & 0 & 0 & 0 & 0 & 0 & 0 & 0\\\\\n",
       "\tpeak82 & 0 & 0 & 0 & 0 & 0 & 0 & 0 & 0 & 0 & 0 & ⋯ & 1 & 0 & 1 & 1 & 1 & 1 & 0 & 0 & 0 & 1\\\\\n",
       "\tpeak83 & 1 & 0 & 0 & 0 & 0 & 0 & 1 & 0 & 1 & 0 & ⋯ & 1 & 0 & 1 & 0 & 0 & 1 & 1 & 1 & 0 & 0\\\\\n",
       "\tpeak84 & 0 & 0 & 0 & 0 & 0 & 0 & 0 & 0 & 0 & 0 & ⋯ & 1 & 1 & 0 & 0 & 0 & 0 & 1 & 1 & 1 & 1\\\\\n",
       "\tpeak85 & 0 & 0 & 0 & 0 & 0 & 0 & 0 & 0 & 0 & 0 & ⋯ & 0 & 0 & 0 & 0 & 0 & 0 & 0 & 0 & 0 & 0\\\\\n",
       "\tpeak86 & 0 & 0 & 0 & 0 & 0 & 0 & 0 & 0 & 0 & 0 & ⋯ & 0 & 0 & 0 & 0 & 0 & 0 & 0 & 0 & 0 & 0\\\\\n",
       "\tpeak87 & 1 & 1 & 1 & 1 & 1 & 0 & 1 & 1 & 1 & 0 & ⋯ & 0 & 0 & 0 & 0 & 0 & 0 & 0 & 0 & 0 & 0\\\\\n",
       "\tpeak88 & 0 & 1 & 0 & 1 & 0 & 0 & 1 & 1 & 1 & 0 & ⋯ & 1 & 1 & 1 & 1 & 0 & 1 & 0 & 0 & 0 & 1\\\\\n",
       "\tpeak89 & 1 & 1 & 0 & 0 & 0 & 0 & 0 & 0 & 1 & 0 & ⋯ & 1 & 0 & 1 & 0 & 0 & 1 & 1 & 0 & 1 & 0\\\\\n",
       "\tpeak90 & 0 & 0 & 0 & 1 & 1 & 1 & 0 & 1 & 1 & 1 & ⋯ & 0 & 0 & 0 & 0 & 1 & 1 & 0 & 1 & 1 & 1\\\\\n",
       "\tpeak91 & 0 & 0 & 0 & 0 & 0 & 0 & 0 & 0 & 0 & 0 & ⋯ & 0 & 0 & 0 & 0 & 0 & 0 & 0 & 0 & 0 & 0\\\\\n",
       "\tpeak92 & 0 & 0 & 0 & 0 & 1 & 0 & 1 & 0 & 1 & 0 & ⋯ & 0 & 0 & 0 & 0 & 0 & 0 & 0 & 0 & 0 & 0\\\\\n",
       "\tpeak93 & 1 & 0 & 1 & 1 & 0 & 1 & 1 & 0 & 0 & 1 & ⋯ & 0 & 0 & 0 & 0 & 0 & 0 & 0 & 0 & 0 & 0\\\\\n",
       "\tpeak94 & 0 & 0 & 0 & 0 & 0 & 0 & 0 & 0 & 0 & 0 & ⋯ & 0 & 0 & 0 & 0 & 0 & 0 & 0 & 0 & 0 & 0\\\\\n",
       "\tpeak95 & 0 & 0 & 0 & 0 & 0 & 0 & 0 & 0 & 0 & 0 & ⋯ & 1 & 0 & 1 & 0 & 1 & 1 & 1 & 0 & 0 & 1\\\\\n",
       "\tpeak96 & 0 & 0 & 0 & 0 & 0 & 0 & 0 & 0 & 0 & 0 & ⋯ & 0 & 0 & 0 & 0 & 0 & 0 & 0 & 0 & 0 & 0\\\\\n",
       "\tpeak97 & 0 & 0 & 0 & 0 & 0 & 0 & 0 & 0 & 0 & 0 & ⋯ & 0 & 0 & 0 & 1 & 0 & 0 & 1 & 1 & 0 & 0\\\\\n",
       "\tpeak98 & 0 & 0 & 0 & 0 & 0 & 0 & 0 & 0 & 0 & 0 & ⋯ & 0 & 0 & 0 & 0 & 0 & 0 & 0 & 0 & 0 & 0\\\\\n",
       "\tpeak99 & 0 & 0 & 0 & 0 & 0 & 0 & 0 & 0 & 0 & 0 & ⋯ & 1 & 0 & 1 & 1 & 1 & 1 & 1 & 0 & 1 & 0\\\\\n",
       "\tpeak100 & 1 & 1 & 0 & 1 & 1 & 0 & 0 & 0 & 0 & 1 & ⋯ & 0 & 0 & 0 & 0 & 0 & 0 & 0 & 0 & 0 & 0\\\\\n",
       "\\end{tabular}\n"
      ],
      "text/markdown": [
       "\n",
       "A data.frame: 100 × 80\n",
       "\n",
       "| <!--/--> | cell1 &lt;int&gt; | cell2 &lt;int&gt; | cell3 &lt;int&gt; | cell4 &lt;int&gt; | cell5 &lt;int&gt; | cell6 &lt;int&gt; | cell7 &lt;int&gt; | cell8 &lt;int&gt; | cell9 &lt;int&gt; | cell10 &lt;int&gt; | ⋯ ⋯ | cell71 &lt;int&gt; | cell72 &lt;int&gt; | cell73 &lt;int&gt; | cell74 &lt;int&gt; | cell75 &lt;int&gt; | cell76 &lt;int&gt; | cell77 &lt;int&gt; | cell78 &lt;int&gt; | cell79 &lt;int&gt; | cell80 &lt;int&gt; |\n",
       "|---|---|---|---|---|---|---|---|---|---|---|---|---|---|---|---|---|---|---|---|---|---|\n",
       "| peak1 | 0 | 0 | 0 | 0 | 0 | 0 | 0 | 0 | 0 | 0 | ⋯ | 0 | 0 | 0 | 0 | 0 | 0 | 0 | 0 | 0 | 0 |\n",
       "| peak2 | 0 | 0 | 0 | 0 | 0 | 0 | 0 | 0 | 0 | 0 | ⋯ | 0 | 0 | 0 | 0 | 0 | 0 | 0 | 0 | 0 | 0 |\n",
       "| peak3 | 0 | 0 | 0 | 0 | 0 | 0 | 0 | 0 | 0 | 0 | ⋯ | 0 | 0 | 0 | 0 | 0 | 0 | 0 | 0 | 0 | 0 |\n",
       "| peak4 | 0 | 0 | 0 | 0 | 0 | 0 | 0 | 0 | 0 | 0 | ⋯ | 0 | 0 | 0 | 0 | 0 | 0 | 0 | 0 | 0 | 0 |\n",
       "| peak5 | 0 | 0 | 0 | 0 | 0 | 0 | 0 | 0 | 0 | 0 | ⋯ | 0 | 0 | 0 | 0 | 0 | 0 | 0 | 0 | 0 | 0 |\n",
       "| peak6 | 1 | 1 | 0 | 0 | 1 | 1 | 1 | 0 | 1 | 0 | ⋯ | 0 | 0 | 1 | 1 | 1 | 1 | 1 | 0 | 0 | 0 |\n",
       "| peak7 | 0 | 0 | 0 | 0 | 0 | 0 | 0 | 0 | 0 | 0 | ⋯ | 0 | 0 | 0 | 0 | 0 | 0 | 0 | 0 | 0 | 0 |\n",
       "| peak8 | 0 | 0 | 0 | 0 | 0 | 0 | 0 | 0 | 0 | 0 | ⋯ | 0 | 0 | 0 | 0 | 0 | 0 | 0 | 0 | 0 | 0 |\n",
       "| peak9 | 1 | 1 | 1 | 0 | 1 | 1 | 0 | 0 | 0 | 0 | ⋯ | 0 | 0 | 0 | 0 | 0 | 0 | 0 | 0 | 0 | 0 |\n",
       "| peak10 | 0 | 0 | 0 | 0 | 0 | 0 | 0 | 0 | 0 | 0 | ⋯ | 1 | 1 | 1 | 1 | 0 | 1 | 1 | 1 | 0 | 0 |\n",
       "| peak11 | 0 | 0 | 0 | 0 | 0 | 0 | 0 | 0 | 0 | 0 | ⋯ | 0 | 0 | 0 | 0 | 0 | 0 | 0 | 0 | 0 | 0 |\n",
       "| peak12 | 0 | 0 | 0 | 0 | 0 | 0 | 0 | 0 | 0 | 0 | ⋯ | 0 | 0 | 0 | 0 | 0 | 0 | 0 | 0 | 0 | 0 |\n",
       "| peak13 | 0 | 0 | 0 | 0 | 0 | 0 | 0 | 0 | 0 | 0 | ⋯ | 0 | 0 | 0 | 0 | 0 | 0 | 0 | 0 | 0 | 0 |\n",
       "| peak14 | 0 | 0 | 0 | 0 | 0 | 0 | 0 | 0 | 0 | 0 | ⋯ | 1 | 1 | 0 | 0 | 0 | 1 | 0 | 0 | 1 | 0 |\n",
       "| peak15 | 0 | 0 | 0 | 0 | 0 | 0 | 0 | 0 | 0 | 0 | ⋯ | 0 | 0 | 0 | 0 | 0 | 0 | 0 | 0 | 0 | 0 |\n",
       "| peak16 | 0 | 0 | 0 | 0 | 0 | 0 | 0 | 0 | 0 | 0 | ⋯ | 0 | 0 | 0 | 0 | 0 | 0 | 0 | 0 | 0 | 0 |\n",
       "| peak17 | 1 | 1 | 0 | 1 | 1 | 0 | 0 | 1 | 1 | 1 | ⋯ | 0 | 0 | 0 | 0 | 0 | 0 | 0 | 0 | 0 | 0 |\n",
       "| peak18 | 0 | 0 | 0 | 0 | 0 | 0 | 0 | 0 | 0 | 0 | ⋯ | 0 | 0 | 0 | 0 | 0 | 0 | 0 | 0 | 0 | 0 |\n",
       "| peak19 | 0 | 0 | 0 | 0 | 0 | 0 | 0 | 0 | 0 | 0 | ⋯ | 0 | 0 | 0 | 0 | 0 | 0 | 0 | 0 | 0 | 0 |\n",
       "| peak20 | 0 | 0 | 0 | 0 | 0 | 0 | 0 | 0 | 0 | 0 | ⋯ | 0 | 0 | 0 | 0 | 0 | 0 | 0 | 0 | 0 | 0 |\n",
       "| peak21 | 0 | 0 | 0 | 0 | 0 | 0 | 0 | 0 | 0 | 0 | ⋯ | 0 | 0 | 0 | 0 | 0 | 0 | 0 | 0 | 0 | 0 |\n",
       "| peak22 | 0 | 0 | 0 | 0 | 0 | 0 | 0 | 0 | 0 | 0 | ⋯ | 0 | 0 | 0 | 0 | 0 | 0 | 0 | 0 | 0 | 0 |\n",
       "| peak23 | 1 | 1 | 1 | 1 | 0 | 0 | 1 | 1 | 1 | 1 | ⋯ | 0 | 0 | 0 | 0 | 0 | 0 | 0 | 0 | 0 | 0 |\n",
       "| peak24 | 1 | 0 | 0 | 0 | 1 | 0 | 1 | 0 | 0 | 0 | ⋯ | 0 | 0 | 0 | 0 | 0 | 0 | 0 | 0 | 0 | 0 |\n",
       "| peak25 | 1 | 1 | 0 | 1 | 1 | 1 | 1 | 0 | 1 | 1 | ⋯ | 0 | 0 | 0 | 0 | 0 | 0 | 0 | 0 | 0 | 0 |\n",
       "| peak26 | 0 | 0 | 0 | 0 | 0 | 0 | 0 | 0 | 0 | 0 | ⋯ | 1 | 1 | 1 | 1 | 1 | 1 | 0 | 1 | 1 | 1 |\n",
       "| peak27 | 0 | 0 | 0 | 0 | 0 | 0 | 0 | 0 | 0 | 0 | ⋯ | 1 | 1 | 1 | 1 | 0 | 1 | 1 | 0 | 0 | 0 |\n",
       "| peak28 | 0 | 0 | 0 | 0 | 0 | 0 | 0 | 0 | 0 | 0 | ⋯ | 1 | 1 | 1 | 0 | 0 | 1 | 1 | 1 | 1 | 0 |\n",
       "| peak29 | 0 | 0 | 0 | 0 | 0 | 0 | 0 | 0 | 0 | 0 | ⋯ | 0 | 0 | 0 | 0 | 1 | 0 | 0 | 1 | 1 | 0 |\n",
       "| peak30 | 0 | 0 | 0 | 0 | 0 | 0 | 0 | 0 | 0 | 0 | ⋯ | 0 | 0 | 0 | 0 | 0 | 0 | 0 | 0 | 0 | 0 |\n",
       "| ⋮ | ⋮ | ⋮ | ⋮ | ⋮ | ⋮ | ⋮ | ⋮ | ⋮ | ⋮ | ⋮ | ⋱ | ⋮ | ⋮ | ⋮ | ⋮ | ⋮ | ⋮ | ⋮ | ⋮ | ⋮ | ⋮ |\n",
       "| peak71 | 0 | 0 | 0 | 1 | 0 | 0 | 1 | 0 | 1 | 0 | ⋯ | 0 | 0 | 0 | 0 | 0 | 0 | 0 | 0 | 0 | 0 |\n",
       "| peak72 | 0 | 0 | 0 | 0 | 0 | 0 | 0 | 0 | 0 | 0 | ⋯ | 0 | 0 | 0 | 1 | 0 | 1 | 0 | 0 | 1 | 1 |\n",
       "| peak73 | 0 | 0 | 0 | 0 | 0 | 0 | 0 | 0 | 0 | 0 | ⋯ | 0 | 0 | 0 | 0 | 0 | 0 | 0 | 0 | 0 | 0 |\n",
       "| peak74 | 0 | 0 | 0 | 0 | 0 | 0 | 0 | 0 | 0 | 0 | ⋯ | 0 | 0 | 0 | 0 | 0 | 0 | 0 | 0 | 0 | 0 |\n",
       "| peak75 | 1 | 1 | 0 | 0 | 1 | 0 | 1 | 0 | 1 | 0 | ⋯ | 0 | 0 | 0 | 0 | 0 | 0 | 0 | 0 | 0 | 0 |\n",
       "| peak76 | 0 | 0 | 0 | 0 | 0 | 0 | 0 | 0 | 0 | 0 | ⋯ | 0 | 1 | 0 | 1 | 1 | 0 | 1 | 1 | 1 | 0 |\n",
       "| peak77 | 0 | 0 | 0 | 0 | 0 | 0 | 0 | 0 | 0 | 0 | ⋯ | 0 | 0 | 0 | 0 | 0 | 0 | 0 | 0 | 0 | 0 |\n",
       "| peak78 | 0 | 0 | 0 | 0 | 0 | 0 | 0 | 0 | 0 | 0 | ⋯ | 0 | 0 | 0 | 0 | 0 | 0 | 0 | 0 | 0 | 0 |\n",
       "| peak79 | 0 | 0 | 0 | 0 | 0 | 0 | 0 | 0 | 0 | 0 | ⋯ | 0 | 0 | 1 | 0 | 0 | 0 | 1 | 0 | 1 | 1 |\n",
       "| peak80 | 0 | 0 | 0 | 1 | 1 | 1 | 0 | 1 | 1 | 1 | ⋯ | 0 | 0 | 1 | 0 | 1 | 1 | 1 | 1 | 1 | 1 |\n",
       "| peak81 | 0 | 0 | 0 | 0 | 0 | 0 | 0 | 0 | 0 | 0 | ⋯ | 0 | 0 | 0 | 0 | 0 | 0 | 0 | 0 | 0 | 0 |\n",
       "| peak82 | 0 | 0 | 0 | 0 | 0 | 0 | 0 | 0 | 0 | 0 | ⋯ | 1 | 0 | 1 | 1 | 1 | 1 | 0 | 0 | 0 | 1 |\n",
       "| peak83 | 1 | 0 | 0 | 0 | 0 | 0 | 1 | 0 | 1 | 0 | ⋯ | 1 | 0 | 1 | 0 | 0 | 1 | 1 | 1 | 0 | 0 |\n",
       "| peak84 | 0 | 0 | 0 | 0 | 0 | 0 | 0 | 0 | 0 | 0 | ⋯ | 1 | 1 | 0 | 0 | 0 | 0 | 1 | 1 | 1 | 1 |\n",
       "| peak85 | 0 | 0 | 0 | 0 | 0 | 0 | 0 | 0 | 0 | 0 | ⋯ | 0 | 0 | 0 | 0 | 0 | 0 | 0 | 0 | 0 | 0 |\n",
       "| peak86 | 0 | 0 | 0 | 0 | 0 | 0 | 0 | 0 | 0 | 0 | ⋯ | 0 | 0 | 0 | 0 | 0 | 0 | 0 | 0 | 0 | 0 |\n",
       "| peak87 | 1 | 1 | 1 | 1 | 1 | 0 | 1 | 1 | 1 | 0 | ⋯ | 0 | 0 | 0 | 0 | 0 | 0 | 0 | 0 | 0 | 0 |\n",
       "| peak88 | 0 | 1 | 0 | 1 | 0 | 0 | 1 | 1 | 1 | 0 | ⋯ | 1 | 1 | 1 | 1 | 0 | 1 | 0 | 0 | 0 | 1 |\n",
       "| peak89 | 1 | 1 | 0 | 0 | 0 | 0 | 0 | 0 | 1 | 0 | ⋯ | 1 | 0 | 1 | 0 | 0 | 1 | 1 | 0 | 1 | 0 |\n",
       "| peak90 | 0 | 0 | 0 | 1 | 1 | 1 | 0 | 1 | 1 | 1 | ⋯ | 0 | 0 | 0 | 0 | 1 | 1 | 0 | 1 | 1 | 1 |\n",
       "| peak91 | 0 | 0 | 0 | 0 | 0 | 0 | 0 | 0 | 0 | 0 | ⋯ | 0 | 0 | 0 | 0 | 0 | 0 | 0 | 0 | 0 | 0 |\n",
       "| peak92 | 0 | 0 | 0 | 0 | 1 | 0 | 1 | 0 | 1 | 0 | ⋯ | 0 | 0 | 0 | 0 | 0 | 0 | 0 | 0 | 0 | 0 |\n",
       "| peak93 | 1 | 0 | 1 | 1 | 0 | 1 | 1 | 0 | 0 | 1 | ⋯ | 0 | 0 | 0 | 0 | 0 | 0 | 0 | 0 | 0 | 0 |\n",
       "| peak94 | 0 | 0 | 0 | 0 | 0 | 0 | 0 | 0 | 0 | 0 | ⋯ | 0 | 0 | 0 | 0 | 0 | 0 | 0 | 0 | 0 | 0 |\n",
       "| peak95 | 0 | 0 | 0 | 0 | 0 | 0 | 0 | 0 | 0 | 0 | ⋯ | 1 | 0 | 1 | 0 | 1 | 1 | 1 | 0 | 0 | 1 |\n",
       "| peak96 | 0 | 0 | 0 | 0 | 0 | 0 | 0 | 0 | 0 | 0 | ⋯ | 0 | 0 | 0 | 0 | 0 | 0 | 0 | 0 | 0 | 0 |\n",
       "| peak97 | 0 | 0 | 0 | 0 | 0 | 0 | 0 | 0 | 0 | 0 | ⋯ | 0 | 0 | 0 | 1 | 0 | 0 | 1 | 1 | 0 | 0 |\n",
       "| peak98 | 0 | 0 | 0 | 0 | 0 | 0 | 0 | 0 | 0 | 0 | ⋯ | 0 | 0 | 0 | 0 | 0 | 0 | 0 | 0 | 0 | 0 |\n",
       "| peak99 | 0 | 0 | 0 | 0 | 0 | 0 | 0 | 0 | 0 | 0 | ⋯ | 1 | 0 | 1 | 1 | 1 | 1 | 1 | 0 | 1 | 0 |\n",
       "| peak100 | 1 | 1 | 0 | 1 | 1 | 0 | 0 | 0 | 0 | 1 | ⋯ | 0 | 0 | 0 | 0 | 0 | 0 | 0 | 0 | 0 | 0 |\n",
       "\n"
      ],
      "text/plain": [
       "        cell1 cell2 cell3 cell4 cell5 cell6 cell7 cell8 cell9 cell10 ⋯ cell71\n",
       "peak1   0     0     0     0     0     0     0     0     0     0      ⋯ 0     \n",
       "peak2   0     0     0     0     0     0     0     0     0     0      ⋯ 0     \n",
       "peak3   0     0     0     0     0     0     0     0     0     0      ⋯ 0     \n",
       "peak4   0     0     0     0     0     0     0     0     0     0      ⋯ 0     \n",
       "peak5   0     0     0     0     0     0     0     0     0     0      ⋯ 0     \n",
       "peak6   1     1     0     0     1     1     1     0     1     0      ⋯ 0     \n",
       "peak7   0     0     0     0     0     0     0     0     0     0      ⋯ 0     \n",
       "peak8   0     0     0     0     0     0     0     0     0     0      ⋯ 0     \n",
       "peak9   1     1     1     0     1     1     0     0     0     0      ⋯ 0     \n",
       "peak10  0     0     0     0     0     0     0     0     0     0      ⋯ 1     \n",
       "peak11  0     0     0     0     0     0     0     0     0     0      ⋯ 0     \n",
       "peak12  0     0     0     0     0     0     0     0     0     0      ⋯ 0     \n",
       "peak13  0     0     0     0     0     0     0     0     0     0      ⋯ 0     \n",
       "peak14  0     0     0     0     0     0     0     0     0     0      ⋯ 1     \n",
       "peak15  0     0     0     0     0     0     0     0     0     0      ⋯ 0     \n",
       "peak16  0     0     0     0     0     0     0     0     0     0      ⋯ 0     \n",
       "peak17  1     1     0     1     1     0     0     1     1     1      ⋯ 0     \n",
       "peak18  0     0     0     0     0     0     0     0     0     0      ⋯ 0     \n",
       "peak19  0     0     0     0     0     0     0     0     0     0      ⋯ 0     \n",
       "peak20  0     0     0     0     0     0     0     0     0     0      ⋯ 0     \n",
       "peak21  0     0     0     0     0     0     0     0     0     0      ⋯ 0     \n",
       "peak22  0     0     0     0     0     0     0     0     0     0      ⋯ 0     \n",
       "peak23  1     1     1     1     0     0     1     1     1     1      ⋯ 0     \n",
       "peak24  1     0     0     0     1     0     1     0     0     0      ⋯ 0     \n",
       "peak25  1     1     0     1     1     1     1     0     1     1      ⋯ 0     \n",
       "peak26  0     0     0     0     0     0     0     0     0     0      ⋯ 1     \n",
       "peak27  0     0     0     0     0     0     0     0     0     0      ⋯ 1     \n",
       "peak28  0     0     0     0     0     0     0     0     0     0      ⋯ 1     \n",
       "peak29  0     0     0     0     0     0     0     0     0     0      ⋯ 0     \n",
       "peak30  0     0     0     0     0     0     0     0     0     0      ⋯ 0     \n",
       "⋮       ⋮     ⋮     ⋮     ⋮     ⋮     ⋮     ⋮     ⋮     ⋮     ⋮      ⋱ ⋮     \n",
       "peak71  0     0     0     1     0     0     1     0     1     0      ⋯ 0     \n",
       "peak72  0     0     0     0     0     0     0     0     0     0      ⋯ 0     \n",
       "peak73  0     0     0     0     0     0     0     0     0     0      ⋯ 0     \n",
       "peak74  0     0     0     0     0     0     0     0     0     0      ⋯ 0     \n",
       "peak75  1     1     0     0     1     0     1     0     1     0      ⋯ 0     \n",
       "peak76  0     0     0     0     0     0     0     0     0     0      ⋯ 0     \n",
       "peak77  0     0     0     0     0     0     0     0     0     0      ⋯ 0     \n",
       "peak78  0     0     0     0     0     0     0     0     0     0      ⋯ 0     \n",
       "peak79  0     0     0     0     0     0     0     0     0     0      ⋯ 0     \n",
       "peak80  0     0     0     1     1     1     0     1     1     1      ⋯ 0     \n",
       "peak81  0     0     0     0     0     0     0     0     0     0      ⋯ 0     \n",
       "peak82  0     0     0     0     0     0     0     0     0     0      ⋯ 1     \n",
       "peak83  1     0     0     0     0     0     1     0     1     0      ⋯ 1     \n",
       "peak84  0     0     0     0     0     0     0     0     0     0      ⋯ 1     \n",
       "peak85  0     0     0     0     0     0     0     0     0     0      ⋯ 0     \n",
       "peak86  0     0     0     0     0     0     0     0     0     0      ⋯ 0     \n",
       "peak87  1     1     1     1     1     0     1     1     1     0      ⋯ 0     \n",
       "peak88  0     1     0     1     0     0     1     1     1     0      ⋯ 1     \n",
       "peak89  1     1     0     0     0     0     0     0     1     0      ⋯ 1     \n",
       "peak90  0     0     0     1     1     1     0     1     1     1      ⋯ 0     \n",
       "peak91  0     0     0     0     0     0     0     0     0     0      ⋯ 0     \n",
       "peak92  0     0     0     0     1     0     1     0     1     0      ⋯ 0     \n",
       "peak93  1     0     1     1     0     1     1     0     0     1      ⋯ 0     \n",
       "peak94  0     0     0     0     0     0     0     0     0     0      ⋯ 0     \n",
       "peak95  0     0     0     0     0     0     0     0     0     0      ⋯ 1     \n",
       "peak96  0     0     0     0     0     0     0     0     0     0      ⋯ 0     \n",
       "peak97  0     0     0     0     0     0     0     0     0     0      ⋯ 0     \n",
       "peak98  0     0     0     0     0     0     0     0     0     0      ⋯ 0     \n",
       "peak99  0     0     0     0     0     0     0     0     0     0      ⋯ 1     \n",
       "peak100 1     1     0     1     1     0     0     0     0     1      ⋯ 0     \n",
       "        cell72 cell73 cell74 cell75 cell76 cell77 cell78 cell79 cell80\n",
       "peak1   0      0      0      0      0      0      0      0      0     \n",
       "peak2   0      0      0      0      0      0      0      0      0     \n",
       "peak3   0      0      0      0      0      0      0      0      0     \n",
       "peak4   0      0      0      0      0      0      0      0      0     \n",
       "peak5   0      0      0      0      0      0      0      0      0     \n",
       "peak6   0      1      1      1      1      1      0      0      0     \n",
       "peak7   0      0      0      0      0      0      0      0      0     \n",
       "peak8   0      0      0      0      0      0      0      0      0     \n",
       "peak9   0      0      0      0      0      0      0      0      0     \n",
       "peak10  1      1      1      0      1      1      1      0      0     \n",
       "peak11  0      0      0      0      0      0      0      0      0     \n",
       "peak12  0      0      0      0      0      0      0      0      0     \n",
       "peak13  0      0      0      0      0      0      0      0      0     \n",
       "peak14  1      0      0      0      1      0      0      1      0     \n",
       "peak15  0      0      0      0      0      0      0      0      0     \n",
       "peak16  0      0      0      0      0      0      0      0      0     \n",
       "peak17  0      0      0      0      0      0      0      0      0     \n",
       "peak18  0      0      0      0      0      0      0      0      0     \n",
       "peak19  0      0      0      0      0      0      0      0      0     \n",
       "peak20  0      0      0      0      0      0      0      0      0     \n",
       "peak21  0      0      0      0      0      0      0      0      0     \n",
       "peak22  0      0      0      0      0      0      0      0      0     \n",
       "peak23  0      0      0      0      0      0      0      0      0     \n",
       "peak24  0      0      0      0      0      0      0      0      0     \n",
       "peak25  0      0      0      0      0      0      0      0      0     \n",
       "peak26  1      1      1      1      1      0      1      1      1     \n",
       "peak27  1      1      1      0      1      1      0      0      0     \n",
       "peak28  1      1      0      0      1      1      1      1      0     \n",
       "peak29  0      0      0      1      0      0      1      1      0     \n",
       "peak30  0      0      0      0      0      0      0      0      0     \n",
       "⋮       ⋮      ⋮      ⋮      ⋮      ⋮      ⋮      ⋮      ⋮      ⋮     \n",
       "peak71  0      0      0      0      0      0      0      0      0     \n",
       "peak72  0      0      1      0      1      0      0      1      1     \n",
       "peak73  0      0      0      0      0      0      0      0      0     \n",
       "peak74  0      0      0      0      0      0      0      0      0     \n",
       "peak75  0      0      0      0      0      0      0      0      0     \n",
       "peak76  1      0      1      1      0      1      1      1      0     \n",
       "peak77  0      0      0      0      0      0      0      0      0     \n",
       "peak78  0      0      0      0      0      0      0      0      0     \n",
       "peak79  0      1      0      0      0      1      0      1      1     \n",
       "peak80  0      1      0      1      1      1      1      1      1     \n",
       "peak81  0      0      0      0      0      0      0      0      0     \n",
       "peak82  0      1      1      1      1      0      0      0      1     \n",
       "peak83  0      1      0      0      1      1      1      0      0     \n",
       "peak84  1      0      0      0      0      1      1      1      1     \n",
       "peak85  0      0      0      0      0      0      0      0      0     \n",
       "peak86  0      0      0      0      0      0      0      0      0     \n",
       "peak87  0      0      0      0      0      0      0      0      0     \n",
       "peak88  1      1      1      0      1      0      0      0      1     \n",
       "peak89  0      1      0      0      1      1      0      1      0     \n",
       "peak90  0      0      0      1      1      0      1      1      1     \n",
       "peak91  0      0      0      0      0      0      0      0      0     \n",
       "peak92  0      0      0      0      0      0      0      0      0     \n",
       "peak93  0      0      0      0      0      0      0      0      0     \n",
       "peak94  0      0      0      0      0      0      0      0      0     \n",
       "peak95  0      1      0      1      1      1      0      0      1     \n",
       "peak96  0      0      0      0      0      0      0      0      0     \n",
       "peak97  0      0      1      0      0      1      1      0      0     \n",
       "peak98  0      0      0      0      0      0      0      0      0     \n",
       "peak99  0      1      1      1      1      1      0      1      0     \n",
       "peak100 0      0      0      0      0      0      0      0      0     "
      ]
     },
     "metadata": {},
     "output_type": "display_data"
    }
   ],
   "source": [
    "count.sim.bin.noise"
   ]
  },
  {
   "cell_type": "code",
   "execution_count": 19,
   "metadata": {},
   "outputs": [],
   "source": [
    "colnames(count.sim.bin.noise) = paste0(\"cell\", 1:ncol(count.sim.bin.noise))\n",
    "rownames(count.sim.bin.noise) = paste0(\"peak\", 1:nrow(count.sim.bin.noise))\n",
    "sob = CreateSeuratObject(\n",
    "    counts = count.sim.bin.noise,\n",
    "    assay = \"peaks\"\n",
    ")"
   ]
  },
  {
   "cell_type": "code",
   "execution_count": 23,
   "metadata": {},
   "outputs": [
    {
     "data": {
      "text/plain": [
       "An object of class Seurat \n",
       "100 features across 80 samples within 1 assay \n",
       "Active assay: peaks (100 features, 100 variable features)\n",
       " 2 dimensional reductions calculated: lsi, umap"
      ]
     },
     "metadata": {},
     "output_type": "display_data"
    }
   ],
   "source": [
    "sob"
   ]
  },
  {
   "cell_type": "code",
   "execution_count": 20,
   "metadata": {},
   "outputs": [
    {
     "name": "stderr",
     "output_type": "stream",
     "text": [
      "Performing TF-IDF normalization\n",
      "\n",
      "Warning message in RunTFIDF.default(object = GetAssayData(object = object, slot = \"counts\"), :\n",
      "\"Some features contain 0 total counts\"\n",
      "Running SVD\n",
      "\n",
      "Warning message in irlba(A = t(x = object), nv = n, work = irlba.work):\n",
      "\"You're computing too large a percentage of total singular values, use a standard svd instead.\"\n",
      "Scaling cell embeddings\n",
      "\n"
     ]
    },
    {
     "data": {
      "image/png": "[encoded data removed]",
      "text/plain": [
       "plot without title"
      ]
     },
     "metadata": {
      "image/png": {
       "height": 420,
       "width": 420
      }
     },
     "output_type": "display_data"
    }
   ],
   "source": [
    "sob <- RunTFIDF(sob)\n",
    "sob <- FindTopFeatures(sob, min.cutoff = 'q0')\n",
    "sob <- RunSVD(sob)\n",
    "DepthCor(sob, n=30)"
   ]
  },
  {
   "cell_type": "code",
   "execution_count": 22,
   "metadata": {},
   "outputs": [
    {
     "name": "stderr",
     "output_type": "stream",
     "text": [
      "19:10:34 UMAP embedding parameters a = 0.9922 b = 1.112\n",
      "\n",
      "19:10:34 Read 80 rows and found 29 numeric columns\n",
      "\n",
      "19:10:34 Using Annoy for neighbor search, n_neighbors = 30\n",
      "\n",
      "19:10:34 Building Annoy index with metric = cosine, n_trees = 50\n",
      "\n",
      "0%   10   20   30   40   50   60   70   80   90   100%\n",
      "\n",
      "[----|----|----|----|----|----|----|----|----|----|\n",
      "\n",
      "*\n",
      "*\n",
      "*\n",
      "*\n",
      "*\n",
      "*\n",
      "*\n",
      "*\n",
      "*\n",
      "*\n",
      "*\n",
      "*\n",
      "*\n",
      "*\n",
      "*\n",
      "*\n",
      "*\n",
      "*\n",
      "*\n",
      "*\n",
      "*\n",
      "*\n",
      "*\n",
      "*\n",
      "*\n",
      "*\n",
      "*\n",
      "*\n",
      "*\n",
      "*\n",
      "*\n",
      "*\n",
      "*\n",
      "*\n",
      "*\n",
      "*\n",
      "*\n",
      "*\n",
      "*\n",
      "*\n",
      "*\n",
      "*\n",
      "*\n",
      "*\n",
      "*\n",
      "*\n",
      "*\n",
      "*\n",
      "*\n",
      "*\n",
      "\n",
      "|\n",
      "\n",
      "19:10:34 Writing NN index file to temp file /tmp/RtmpGhp4Sn/filea171cc4a451\n",
      "\n",
      "19:10:34 Searching Annoy index using 1 thread, search_k = 3000\n",
      "\n",
      "19:10:34 Annoy recall = 100%\n",
      "\n",
      "19:10:36 Commencing smooth kNN distance calibration using 1 thread\n",
      "\n",
      "19:10:38 Initializing from normalized Laplacian + noise\n",
      "\n",
      "19:10:38 Commencing optimization for 500 epochs, with 2472 positive edges\n",
      "\n",
      "19:10:40 Optimization finished\n",
      "\n",
      "Computing nearest neighbor graph\n",
      "\n",
      "Computing SNN\n",
      "\n"
     ]
    },
    {
     "data": {
      "image/png": "[encoded data removed]",
      "text/plain": [
       "plot without title"
      ]
     },
     "metadata": {
      "image/png": {
       "height": 420,
       "width": 420
      }
     },
     "output_type": "display_data"
    }
   ],
   "source": [
    "sob <- RunUMAP(object = sob, reduction = 'lsi', dims = 2:30)\n",
    "sob <- FindNeighbors(object = sob, reduction = 'lsi', dims = 2:30)\n",
    "sob <- FindClusters(object = sob, verbose = FALSE, algorithm = 3)\n",
    "DimPlot(object = sob, label = TRUE) + NoLegend()"
   ]
  },
  {
   "cell_type": "code",
   "execution_count": null,
   "metadata": {},
   "outputs": [],
   "source": []
  }
 ],
 "metadata": {
  "kernelspec": {
   "display_name": "R 3.6",
   "language": "R",
   "name": "ir36"
  },
  "language_info": {
   "codemirror_mode": "r",
   "file_extension": ".r",
   "mimetype": "text/x-r-source",
   "name": "R",
   "pygments_lexer": "r",
   "version": "3.6.0"
  }
 },
 "nbformat": 4,
 "nbformat_minor": 4
}
